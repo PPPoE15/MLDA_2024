{
 "cells": [
  {
   "cell_type": "markdown",
   "id": "9bb3b35c",
   "metadata": {},
   "source": [
    "# Привет!\n",
    "\n",
    "Перед началом прохождения убедитесь, что все настроено как надо. Следующая ячейка должна выполниться без ошибок:"
   ]
  },
  {
   "cell_type": "markdown",
   "id": "daa1222a",
   "metadata": {},
   "source": [
    "После прохождения не забудьте **перезапустить ядро** (**restart the kernel**) (в панели меню выберите Kernel $\\rightarrow$ Restart) и затем **запуск всех ячеек** (**run all cells**) (в панели меню выберите Cell $\\rightarrow$ Run All).\n",
    "\n",
    "Убедитесь, что заменили все такие места \n",
    "```python\n",
    "# YOUR CODE HERE\n",
    "raise NotImplementedError()\n",
    "```\n",
    "и\n",
    "```\n",
    "\"YOUR ANSWER HERE\"\n",
    "```\n",
    "на свои решения и ответы.\n",
    "\n",
    "Если не установлены какие-то пакеты, то посмотрите нужные версии в ноутбуках по регрессии.\n",
    "\n",
    "Для прорешивания используйте среды с поддержкой формата Jupyter: [Google Colab](https://colab.research.google.com/), [Jupyter Notebook (Web)](https://jupyter.org/), [PyCharm](https://www.jetbrains.com/ru-ru/pycharm/), [DataSpell](https://www.jetbrains.com/ru-ru/dataspell/) или [VSCode](https://code.visualstudio.com/). Работа с этим форматом в обычном текстовом редакторе может сыграть злую шутку.\n",
    "\n",
    "Не забывайте о следующих особенностях:\n",
    "- 😉 Помимо указанных тестов после задания существуют и скрытые тесты, поэтому внимательнее читайте задание\n",
    "- 😎 Обязательно проверяйте выполнимость на тестах, для проверки перезапустите ядро и запустите все ячейки заново!\n",
    "- 😂 После скачивания ноутбуков достаточно заполнить места для ответов и отправить ноутбук обратно (сам ноутбук, ни в архиве, ни ссылкой на GitHub ни как-то еще принимать не будем, загружаете сам файл)\n",
    "- 😈 Не рекомендуем удалять исходные ячейки, так как из-за этого могут не начислиться баллы =(\n",
    "  - 👼 Если таки такое случилось, скачайте заново шаблон и перенесите в него свои решения\n",
    "- 😛 Свой код пишите только в ячейках для решений - любые дописывания в остальных ячейках (с текстом или тестами) могут не попасть в проверку (например, `import` вне ячейки для решения)\n"
   ]
  },
  {
   "cell_type": "markdown",
   "id": "56c8f796",
   "metadata": {},
   "source": [
    "---"
   ]
  },
  {
   "cell_type": "markdown",
   "id": "1e47d973",
   "metadata": {
    "deletable": false,
    "editable": false,
    "nbgrader": {
     "cell_type": "markdown",
     "checksum": "037c897e7ae52a2adc17247bf70cf1ce",
     "grade": false,
     "grade_id": "cell-a157936eae072003",
     "locked": true,
     "schema_version": 3,
     "solution": false,
     "task": false
    }
   },
   "source": [
    "Это вторая контрольная работа с некоторыми вопросами по теме задачи регрессии в машинном обучении!"
   ]
  },
  {
   "cell_type": "code",
   "execution_count": 1,
   "id": "a063164d",
   "metadata": {
    "deletable": false,
    "editable": false,
    "nbgrader": {
     "cell_type": "code",
     "checksum": "e29e38031e6be94bc55218ebbd24173f",
     "grade": false,
     "grade_id": "cell-ea81f8cd8198e0b2",
     "locked": true,
     "schema_version": 3,
     "solution": false,
     "task": false
    }
   },
   "outputs": [
    {
     "name": "stdout",
     "output_type": "stream",
     "text": [
      "numpy version: 1.24.4\n",
      "pandas version: 2.0.3\n",
      "scikit-learn version: 1.3.2\n"
     ]
    }
   ],
   "source": [
    "import numpy as np\n",
    "print(f\"numpy version: {np.__version__}\")\n",
    "import pandas as pd\n",
    "print(f\"pandas version: {pd.__version__}\")\n",
    "# Just to check that it exists\n",
    "import sklearn\n",
    "print(f\"scikit-learn version: {sklearn.__version__}\")\n",
    "\n",
    "from typing import Tuple, List, Dict\n",
    "\n",
    "np.random.seed(123)"
   ]
  },
  {
   "cell_type": "markdown",
   "id": "dd7fa466",
   "metadata": {
    "deletable": false,
    "editable": false,
    "nbgrader": {
     "cell_type": "markdown",
     "checksum": "9e8b05c108e2171e2b3d57b22f7d3e29",
     "grade": false,
     "grade_id": "cell-15c9325584b83940",
     "locked": true,
     "schema_version": 3,
     "solution": false,
     "task": false
    }
   },
   "source": [
    "### Задание 1\n",
    "\n",
    "Напишите функцию для загрузки данных, которая возвращает tuple с DataFrame признаков и Series целевой переменной. Используйте [эту функцию](https://scikit-learn.org/stable/modules/generated/sklearn.datasets.load_diabetes.html) в качестве основы для загрузки датасета диабетов.\n",
    "\n",
    "> Это очень простая задача, но ее важно выполнить, так как она будет использоваться далее по тестам!"
   ]
  },
  {
   "cell_type": "code",
   "execution_count": 2,
   "id": "3377bf31",
   "metadata": {
    "deletable": false,
    "nbgrader": {
     "cell_type": "code",
     "checksum": "1b964b03c507f5d1defb738609f632ca",
     "grade": false,
     "grade_id": "cell-327093fec6a96199",
     "locked": false,
     "schema_version": 3,
     "solution": true,
     "task": false
    }
   },
   "outputs": [],
   "source": [
    "from sklearn.datasets import load_diabetes\n",
    "\n",
    "def load_data() -> Tuple[pd.DataFrame, pd.Series]:\n",
    "    loaded_data = load_diabetes()\n",
    "    df = pd.DataFrame(loaded_data.data, columns=loaded_data.feature_names)\n",
    "    df[\"target\"] = loaded_data.target\n",
    "    y = df.pop(\"target\")\n",
    "\n",
    "    return df, y"
   ]
  },
  {
   "cell_type": "code",
   "execution_count": 3,
   "id": "7243ab44",
   "metadata": {
    "deletable": false,
    "editable": false,
    "nbgrader": {
     "cell_type": "code",
     "checksum": "ea7287163448fe2038965ebc027c44e8",
     "grade": true,
     "grade_id": "cell-7e627329ed2ea656",
     "locked": true,
     "points": 1,
     "schema_version": 3,
     "solution": false,
     "task": false
    }
   },
   "outputs": [],
   "source": [
    "X, y = load_data()\n",
    "\n",
    "np.testing.assert_array_equal(X.shape, [442, 10])\n",
    "np.testing.assert_array_equal(y.shape, [442])\n",
    "\n",
    "assert isinstance(X, pd.DataFrame)\n",
    "assert isinstance(y, pd.Series)\n"
   ]
  },
  {
   "cell_type": "markdown",
   "id": "e8481cc6",
   "metadata": {
    "deletable": false,
    "editable": false,
    "nbgrader": {
     "cell_type": "markdown",
     "checksum": "ffd76575261c4894791079c3178857c0",
     "grade": false,
     "grade_id": "cell-cd2553f9a8f3b884",
     "locked": true,
     "schema_version": 3,
     "solution": false,
     "task": false
    }
   },
   "source": [
    "### Задание 2\n",
    "\n",
    "Напишите функцию поиска признаков в данных с корреляцией по Пирсону, превышающей порог по указанной переменной. Указанную переменную необходимо исключить.\n",
    "\n",
    "Функция возвращает список имен переменных."
   ]
  },
  {
   "cell_type": "code",
   "execution_count": 4,
   "id": "d1222cd0",
   "metadata": {
    "deletable": false,
    "nbgrader": {
     "cell_type": "code",
     "checksum": "db0f149e343be450a678bc678d2bc316",
     "grade": false,
     "grade_id": "cell-7bd0359336964ee1",
     "locked": false,
     "schema_version": 3,
     "solution": true,
     "task": false
    }
   },
   "outputs": [],
   "source": [
    "def get_high_correlation_features(df: pd.DataFrame, col_name: str, threshold: float) -> List[str]:\n",
    "    popped = df.pop(col_name)\n",
    "    corr_matrix = df.corrwith(popped)\n",
    "    \n",
    "    return corr_matrix[abs(corr_matrix) > threshold].index.tolist()"
   ]
  },
  {
   "cell_type": "code",
   "execution_count": 5,
   "id": "eb1fde6d",
   "metadata": {
    "deletable": false,
    "editable": false,
    "nbgrader": {
     "cell_type": "code",
     "checksum": "7bc2885d555727d7585b4f0ff9d3fe0c",
     "grade": true,
     "grade_id": "cell-136b84cd0900ad11",
     "locked": true,
     "points": 2,
     "schema_version": 3,
     "solution": false,
     "task": false
    }
   },
   "outputs": [],
   "source": [
    "X, y = load_data()\n",
    "df = X.copy()\n",
    "df[\"target\"] = y\n",
    "\n",
    "_test_data = get_high_correlation_features(df, \"target\", threshold=0.27)\n",
    "np.testing.assert_equal(\n",
    "    _test_data, \n",
    "    np.array(['bmi', \"bp\", 's3', 's4', 's5', 's6'])\n",
    ")\n"
   ]
  },
  {
   "cell_type": "markdown",
   "id": "0a6b4fcd",
   "metadata": {
    "deletable": false,
    "editable": false,
    "nbgrader": {
     "cell_type": "markdown",
     "checksum": "d6cfb86cb9d8e94c8e0254f1f05b942a",
     "grade": false,
     "grade_id": "cell-4de8ba55b701b6a6",
     "locked": true,
     "schema_version": 3,
     "solution": false,
     "task": false
    }
   },
   "source": [
    "### Задание 3\n",
    "\n",
    "Реализуйте класс для предобработки данных. Предобработка должна включать в себя:\n",
    "- Определение 1го и 3го квартилей по указанному признаку и удаление данных за пределами квартилей по значениям признака. Удалить только данные строго больше 3го и строго меньше 1го квартилей.\n",
    "- Масштабирование признаков к пределам [-1; 2]\n",
    "- Опциональная чистка данных, подаваемых в transform\n",
    "\n",
    "> Обратите внимание, на каких данных должен учиться scaler и в каком порядке должны идти операции в transform()"
   ]
  },
  {
   "cell_type": "code",
   "execution_count": 6,
   "id": "c91386a1",
   "metadata": {
    "deletable": false,
    "nbgrader": {
     "cell_type": "code",
     "checksum": "4aa2d73ba8b04a987539b5999a478d69",
     "grade": false,
     "grade_id": "cell-0da59aa4e9b3e30e",
     "locked": false,
     "schema_version": 3,
     "solution": true,
     "task": false
    }
   },
   "outputs": [],
   "source": [
    "from sklearn.preprocessing import MinMaxScaler\n",
    "\n",
    "class DataPreprocessing:\n",
    "    def __init__(self, quartile_clean_col_name: str):\n",
    "        self._col_name = quartile_clean_col_name\n",
    "        self.q1 = None\n",
    "        self.q3 = None\n",
    "        self.scaler = MinMaxScaler((-1, 2))\n",
    "\n",
    "    def fit(self, X: pd.DataFrame) -> None:\n",
    "        self.q1 = X[self._col_name].quantile(0.25)\n",
    "        self.q3 = X[self._col_name].quantile(0.75)\n",
    "        X = X[\n",
    "            (X[self._col_name] > self.q1) & \n",
    "            (X[self._col_name] < self.q3)\n",
    "        ]\n",
    "        self.scaler.fit_transform(X)\n",
    "        \n",
    "\n",
    "    def transform(self, X: pd.DataFrame, clean_data: bool = False) -> pd.DataFrame:\n",
    "        if clean_data:\n",
    "            X = X[\n",
    "                (X[self._col_name] > self.q1) & \n",
    "                (X[self._col_name] < self.q3)\n",
    "            ]\n",
    "        X = self.scaler.transform(X)\n",
    "        return pd.DataFrame(X, columns=self.scaler.feature_names_in_)"
   ]
  },
  {
   "cell_type": "code",
   "execution_count": 7,
   "id": "5e55dda2",
   "metadata": {
    "deletable": false,
    "editable": false,
    "nbgrader": {
     "cell_type": "code",
     "checksum": "edaeb2eefcc7d2f461ca7e95d4472a5d",
     "grade": true,
     "grade_id": "cell-9e66830003060afc",
     "locked": true,
     "points": 4,
     "schema_version": 3,
     "solution": false,
     "task": false
    }
   },
   "outputs": [
    {
     "ename": "AssertionError",
     "evalue": "",
     "output_type": "error",
     "traceback": [
      "\u001b[0;31m---------------------------------------------------------------------------\u001b[0m",
      "\u001b[0;31mAssertionError\u001b[0m                            Traceback (most recent call last)",
      "Cell \u001b[0;32mIn[7], line 19\u001b[0m\n\u001b[1;32m     16\u001b[0m np\u001b[38;5;241m.\u001b[39mtesting\u001b[38;5;241m.\u001b[39massert_almost_equal(_X_test_prep[\u001b[38;5;124m\"\u001b[39m\u001b[38;5;124mbp\u001b[39m\u001b[38;5;124m\"\u001b[39m]\u001b[38;5;241m.\u001b[39mmean(), \u001b[38;5;241m0.384\u001b[39m, decimal\u001b[38;5;241m=\u001b[39m\u001b[38;5;241m2\u001b[39m)\n\u001b[1;32m     18\u001b[0m \u001b[38;5;66;03m# Check that index have to be saved from original data\u001b[39;00m\n\u001b[0;32m---> 19\u001b[0m \u001b[38;5;28;01massert\u001b[39;00m \u001b[38;5;241m440\u001b[39m \u001b[38;5;241m<\u001b[39m _X_test_prep\u001b[38;5;241m.\u001b[39mindex\u001b[38;5;241m.\u001b[39mmax() \u001b[38;5;241m<\u001b[39m\u001b[38;5;241m=\u001b[39m \u001b[38;5;241m450\u001b[39m\n\u001b[1;32m     20\u001b[0m \u001b[38;5;28;01massert\u001b[39;00m \u001b[38;5;241m350\u001b[39m \u001b[38;5;241m<\u001b[39m\u001b[38;5;241m=\u001b[39m _X_test_prep\u001b[38;5;241m.\u001b[39mindex\u001b[38;5;241m.\u001b[39mmin() \u001b[38;5;241m<\u001b[39m \u001b[38;5;241m360\u001b[39m\n",
      "\u001b[0;31mAssertionError\u001b[0m: "
     ]
    }
   ],
   "source": [
    "X, y = load_data()\n",
    "\n",
    "_X_train_part = X.iloc[:350]\n",
    "_X_test_part = X.iloc[350:]\n",
    "\n",
    "preprocess = DataPreprocessing(quartile_clean_col_name='s2')\n",
    "preprocess.fit(_X_train_part)\n",
    "_X_test_prep = preprocess.transform(_X_test_part, clean_data=True)\n",
    "\n",
    "assert isinstance(_X_test_prep, pd.DataFrame)\n",
    "np.testing.assert_array_equal(_X_test_prep.shape, (44, 10))\n",
    "np.testing.assert_array_equal(_X_test_prep.columns, X.columns)\n",
    "assert 1.98 < _X_test_prep[\"s5\"].max() < 2\n",
    "assert _X_test_prep[\"s4\"].max() > 1\n",
    "\n",
    "np.testing.assert_almost_equal(_X_test_prep[\"bp\"].mean(), 0.384, decimal=2)\n",
    "\n",
    "# Check that index have to be saved from original data\n",
    "assert 440 < _X_test_prep.index.max() <= 450\n",
    "assert 350 <= _X_test_prep.index.min() < 360\n"
   ]
  },
  {
   "cell_type": "markdown",
   "id": "77ad6069",
   "metadata": {
    "deletable": false,
    "editable": false,
    "nbgrader": {
     "cell_type": "markdown",
     "checksum": "3173bdd40f7db5d52b22b4e892e3b675",
     "grade": false,
     "grade_id": "cell-f4e56816d00eb2d3",
     "locked": true,
     "schema_version": 3,
     "solution": false,
     "task": false
    }
   },
   "source": [
    "### Задание 4\n",
    "\n",
    "Реализуйте класс для обучения модели линейной регрессии с вычислением метрик. В метрики должны входить: MSE, RMSE, MAPE, $R^2$.\n",
    "\n",
    "> Обратите внимание на возвращаемые типы данных: для `predict_evaluate` это пара значений, где второй аргумент - словарь с определёнными ключами.\n",
    "\n",
    "> Класс должен содержать объект модели, методы которого вызываются в `fit()` и `predict_evaluate()`. "
   ]
  },
  {
   "cell_type": "code",
   "execution_count": 8,
   "id": "37258376",
   "metadata": {
    "deletable": false,
    "nbgrader": {
     "cell_type": "code",
     "checksum": "717cf2be7d3e6de9821937005984c4ec",
     "grade": false,
     "grade_id": "cell-dfe13046beea8fba",
     "locked": false,
     "schema_version": 3,
     "solution": true,
     "task": false
    }
   },
   "outputs": [],
   "source": [
    "from sklearn.linear_model import LinearRegression\n",
    "from sklearn.metrics import mean_squared_error, r2_score\n",
    "\n",
    "class ModelTrainWithMetrics:\n",
    "    def __init__(self):\n",
    "        self.model = LinearRegression()\n",
    "\n",
    "    def fit(self, X: pd.DataFrame, y: pd.Series) -> None:\n",
    "        self.model.fit(X, y)\n",
    "\n",
    "    def predict_evaluate(self, X: pd.DataFrame, y: pd.Series) -> Tuple[np.ndarray, Dict[str, float]]:\n",
    "        y_pred = self.model.predict(X)\n",
    "        mse = mean_squared_error(y, y_pred)\n",
    "        metrics = {\n",
    "            'mse': mse,\n",
    "            'rmse': np.sqrt(mse),\n",
    "            'mape': np.mean(np.abs((y - y_pred) / y)) * 100,\n",
    "            'r2': r2_score(y, y_pred),\n",
    "        }\n",
    "        return y_pred, metrics"
   ]
  },
  {
   "cell_type": "code",
   "execution_count": 9,
   "id": "700711d3",
   "metadata": {
    "deletable": false,
    "editable": false,
    "nbgrader": {
     "cell_type": "code",
     "checksum": "c28e8dcf33a9057efb6af69a82ff9b62",
     "grade": true,
     "grade_id": "cell-c32a1f863b463294",
     "locked": true,
     "points": 3,
     "schema_version": 3,
     "solution": false,
     "task": false
    }
   },
   "outputs": [
    {
     "name": "stdout",
     "output_type": "stream",
     "text": [
      "MAPE = 36.67196318312674\n"
     ]
    },
    {
     "ename": "AssertionError",
     "evalue": "",
     "output_type": "error",
     "traceback": [
      "\u001b[0;31m---------------------------------------------------------------------------\u001b[0m",
      "\u001b[0;31mAssertionError\u001b[0m                            Traceback (most recent call last)",
      "Cell \u001b[0;32mIn[9], line 17\u001b[0m\n\u001b[1;32m     15\u001b[0m \u001b[38;5;28;01massert\u001b[39;00m metrics[\u001b[38;5;124m'\u001b[39m\u001b[38;5;124mrmse\u001b[39m\u001b[38;5;124m'\u001b[39m] \u001b[38;5;241m<\u001b[39m \u001b[38;5;241m55\u001b[39m\n\u001b[1;32m     16\u001b[0m \u001b[38;5;28mprint\u001b[39m(\u001b[38;5;124mf\u001b[39m\u001b[38;5;124m\"\u001b[39m\u001b[38;5;124mMAPE = \u001b[39m\u001b[38;5;132;01m{\u001b[39;00mmetrics[\u001b[38;5;124m'\u001b[39m\u001b[38;5;124mmape\u001b[39m\u001b[38;5;124m'\u001b[39m]\u001b[38;5;132;01m}\u001b[39;00m\u001b[38;5;124m\"\u001b[39m)\n\u001b[0;32m---> 17\u001b[0m \u001b[38;5;28;01massert\u001b[39;00m metrics[\u001b[38;5;124m'\u001b[39m\u001b[38;5;124mmape\u001b[39m\u001b[38;5;124m'\u001b[39m] \u001b[38;5;241m<\u001b[39m \u001b[38;5;241m0.37\u001b[39m\n",
      "\u001b[0;31mAssertionError\u001b[0m: "
     ]
    }
   ],
   "source": [
    "from sklearn.model_selection import train_test_split\n",
    "\n",
    "X, y = load_data()\n",
    "X_train, X_test, y_train, y_test = train_test_split(X, y, random_state=42, shuffle=True, test_size=0.3)\n",
    "\n",
    "model = ModelTrainWithMetrics()\n",
    "model.fit(X_train, y_train)\n",
    "y_test_pred, metrics = model.predict_evaluate(X_test, y_test)\n",
    "\n",
    "assert isinstance(metrics, dict)\n",
    "assert isinstance(y_test_pred, np.ndarray)\n",
    "np.testing.assert_equal(set(metrics.keys()), set(['mse', 'mape', 'rmse', 'r2']))\n",
    "\n",
    "assert metrics['r2'] > 0.45\n",
    "assert metrics['rmse'] < 55\n",
    "print(f\"MAPE = {metrics['mape']}\")\n",
    "assert metrics['mape'] < 0.37\n"
   ]
  },
  {
   "cell_type": "markdown",
   "id": "ab109727",
   "metadata": {
    "deletable": false,
    "editable": false,
    "nbgrader": {
     "cell_type": "markdown",
     "checksum": "33e3562a8ce27db17594c3be00c86c39",
     "grade": false,
     "grade_id": "cell-8963be98c2d31921",
     "locked": true,
     "schema_version": 3,
     "solution": false,
     "task": false
    }
   },
   "source": [
    "### Задание 5\n",
    "\n",
    "Реализуйте функцию сбора статистики данных датасета по каждой числовой колонке.\n",
    "\n",
    "Формат выхода: колонки - показатели, строки - названия исходных колонок.\n",
    "\n",
    "Требуемые показатели:\n",
    "- Минимальное значение колонки\n",
    "- Максимальное значение колонки\n",
    "- Медианное значение колонки\n",
    "- Среднее значение колонки / Mean value\n",
    "- Стандартное (Среднеквадратическое) отклонение / Standart deviation\n",
    "- Первый квартиль\n",
    "- Третий квартиль\n",
    "- Интерквартильный размах (IQR - Interquartile range)"
   ]
  },
  {
   "cell_type": "code",
   "execution_count": null,
   "id": "6163b336",
   "metadata": {
    "deletable": false,
    "nbgrader": {
     "cell_type": "code",
     "checksum": "be165ac660534a1082304bc806111a82",
     "grade": false,
     "grade_id": "cell-20d8e9a92c0f2714",
     "locked": false,
     "schema_version": 3,
     "solution": true,
     "task": false
    }
   },
   "outputs": [],
   "source": [
    "def collect_statistics(df: pd.DataFrame) -> pd.DataFrame:\n",
    "    stat = df.describe()\n",
    "    stat = stat.T\n",
    "    stat[\"IQR\"] = stat[\"75%\"] - stat[\"25%\"]\n",
    "    stat = stat[[\"min\", \"25%\", \"50%\", \"mean\", \"std\", \"75%\", \"max\", \"IQR\"]]\n",
    "    stat.columns = [\"min\", \"Q1\", \"median\", \"mean\", \"std\", \"Q3\", \"max\", \"IQR\"]\n",
    "    return stat"
   ]
  },
  {
   "cell_type": "code",
   "execution_count": null,
   "id": "8fb8b704",
   "metadata": {
    "deletable": false,
    "editable": false,
    "nbgrader": {
     "cell_type": "code",
     "checksum": "56a0d00e03f858dace16dd28077e3b68",
     "grade": true,
     "grade_id": "cell-146d7f58a0e36598",
     "locked": true,
     "points": 2,
     "schema_version": 3,
     "solution": false,
     "task": false
    }
   },
   "outputs": [],
   "source": [
    "X, _ = load_data()\n",
    "\n",
    "stats = collect_statistics(X)\n",
    "\n",
    "np.testing.assert_equal(set(stats.index), set(['age', 'sex', 'bmi', 'bp', 's1', 's2', 's3', 's4', 's5', 's6']))\n",
    "np.testing.assert_equal(set(stats.columns), set(['min', 'max', 'median', 'mean', 'std', 'Q1', 'Q3', 'IQR']))\n",
    "\n",
    "np.testing.assert_almost_equal(stats.loc[['age', 'bmi'], 'mean'], [0, 0], decimal=2)\n",
    "np.testing.assert_almost_equal(stats.loc[['s3', 'bp'], 'std'], [0.048, 0.048], decimal=2)\n",
    "np.testing.assert_almost_equal(stats.loc[['s6', 's5'], 'min'], [-0.138, -0.126], decimal=2)\n",
    "np.testing.assert_almost_equal(stats.loc[['s1', 's2'], 'max'], [0.154, 0.199], decimal=2)\n"
   ]
  }
 ],
 "metadata": {
  "kernelspec": {
   "display_name": ".venv",
   "language": "python",
   "name": "python3"
  },
  "language_info": {
   "codemirror_mode": {
    "name": "ipython",
    "version": 3
   },
   "file_extension": ".py",
   "mimetype": "text/x-python",
   "name": "python",
   "nbconvert_exporter": "python",
   "pygments_lexer": "ipython3",
   "version": "3.8.10"
  }
 },
 "nbformat": 4,
 "nbformat_minor": 5
}
